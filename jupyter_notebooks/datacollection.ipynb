{
 "cells": [
  {
   "cell_type": "markdown",
   "metadata": {},
   "source": [
    "# **Data Collection**"
   ]
  },
  {
   "cell_type": "markdown",
   "metadata": {},
   "source": [
    "## Objectives"
   ]
  },
  {
   "cell_type": "markdown",
   "metadata": {},
   "source": [
    "* Fetch and prepare the data from Kaggle and prepare for processing\n"
   ]
  },
  {
   "cell_type": "markdown",
   "metadata": {},
   "source": [
    "## Inputs"
   ]
  },
  {
   "cell_type": "markdown",
   "metadata": {},
   "source": [
    "* Json Kaggle file - authentication"
   ]
  },
  {
   "cell_type": "markdown",
   "metadata": {},
   "source": [
    "## Outputs"
   ]
  },
  {
   "cell_type": "markdown",
   "metadata": {},
   "source": [
    "* Generate input and output for cherry images"
   ]
  },
  {
   "cell_type": "code",
   "execution_count": 19,
   "metadata": {},
   "outputs": [
    {
     "name": "stdout",
     "output_type": "stream",
     "text": [
      "Requirement already satisfied: numpy==1.26.1 in /workspace/.pip-modules/lib/python3.12/site-packages (from -r /workspace/cherry/requirements.txt (line 1)) (1.26.1)\n",
      "Requirement already satisfied: pandas==2.1.1 in /workspace/.pip-modules/lib/python3.12/site-packages (from -r /workspace/cherry/requirements.txt (line 2)) (2.1.1)\n",
      "Requirement already satisfied: matplotlib==3.8.0 in /workspace/.pip-modules/lib/python3.12/site-packages (from -r /workspace/cherry/requirements.txt (line 3)) (3.8.0)\n",
      "Requirement already satisfied: seaborn==0.13.2 in /workspace/.pip-modules/lib/python3.12/site-packages (from -r /workspace/cherry/requirements.txt (line 4)) (0.13.2)\n",
      "Requirement already satisfied: plotly==5.17.0 in /workspace/.pip-modules/lib/python3.12/site-packages (from -r /workspace/cherry/requirements.txt (line 5)) (5.17.0)\n",
      "Requirement already satisfied: Pillow==10.0.1 in /workspace/.pip-modules/lib/python3.12/site-packages (from -r /workspace/cherry/requirements.txt (line 6)) (10.0.1)\n",
      "Requirement already satisfied: streamlit==1.40.2 in /workspace/.pip-modules/lib/python3.12/site-packages (from -r /workspace/cherry/requirements.txt (line 7)) (1.40.2)\n",
      "Requirement already satisfied: joblib==1.4.2 in /workspace/.pip-modules/lib/python3.12/site-packages (from -r /workspace/cherry/requirements.txt (line 8)) (1.4.2)\n",
      "Requirement already satisfied: scikit-learn==1.3.1 in /workspace/.pip-modules/lib/python3.12/site-packages (from -r /workspace/cherry/requirements.txt (line 9)) (1.3.1)\n",
      "Requirement already satisfied: tensorflow-cpu==2.16.1 in /workspace/.pip-modules/lib/python3.12/site-packages (from -r /workspace/cherry/requirements.txt (line 10)) (2.16.1)\n",
      "Requirement already satisfied: keras>=3.0.0 in /workspace/.pip-modules/lib/python3.12/site-packages (from -r /workspace/cherry/requirements.txt (line 11)) (3.8.0)\n",
      "Requirement already satisfied: python-dateutil>=2.8.2 in /home/gitpod/.pyenv/versions/3.12.2/lib/python3.12/site-packages (from pandas==2.1.1->-r /workspace/cherry/requirements.txt (line 2)) (2.9.0.post0)\n",
      "Requirement already satisfied: pytz>=2020.1 in /workspace/.pip-modules/lib/python3.12/site-packages (from pandas==2.1.1->-r /workspace/cherry/requirements.txt (line 2)) (2024.2)\n",
      "Requirement already satisfied: tzdata>=2022.1 in /workspace/.pip-modules/lib/python3.12/site-packages (from pandas==2.1.1->-r /workspace/cherry/requirements.txt (line 2)) (2025.1)\n",
      "Requirement already satisfied: contourpy>=1.0.1 in /workspace/.pip-modules/lib/python3.12/site-packages (from matplotlib==3.8.0->-r /workspace/cherry/requirements.txt (line 3)) (1.3.1)\n",
      "Requirement already satisfied: cycler>=0.10 in /workspace/.pip-modules/lib/python3.12/site-packages (from matplotlib==3.8.0->-r /workspace/cherry/requirements.txt (line 3)) (0.12.1)\n",
      "Requirement already satisfied: fonttools>=4.22.0 in /workspace/.pip-modules/lib/python3.12/site-packages (from matplotlib==3.8.0->-r /workspace/cherry/requirements.txt (line 3)) (4.55.6)\n",
      "Requirement already satisfied: kiwisolver>=1.0.1 in /workspace/.pip-modules/lib/python3.12/site-packages (from matplotlib==3.8.0->-r /workspace/cherry/requirements.txt (line 3)) (1.4.8)\n",
      "Requirement already satisfied: packaging>=20.0 in /home/gitpod/.pyenv/versions/3.12.2/lib/python3.12/site-packages (from matplotlib==3.8.0->-r /workspace/cherry/requirements.txt (line 3)) (24.2)\n",
      "Requirement already satisfied: pyparsing>=2.3.1 in /workspace/.pip-modules/lib/python3.12/site-packages (from matplotlib==3.8.0->-r /workspace/cherry/requirements.txt (line 3)) (3.2.1)\n",
      "Requirement already satisfied: tenacity>=6.2.0 in /workspace/.pip-modules/lib/python3.12/site-packages (from plotly==5.17.0->-r /workspace/cherry/requirements.txt (line 5)) (9.0.0)\n",
      "Requirement already satisfied: altair<6,>=4.0 in /workspace/.pip-modules/lib/python3.12/site-packages (from streamlit==1.40.2->-r /workspace/cherry/requirements.txt (line 7)) (5.5.0)\n",
      "Requirement already satisfied: blinker<2,>=1.0.0 in /workspace/.pip-modules/lib/python3.12/site-packages (from streamlit==1.40.2->-r /workspace/cherry/requirements.txt (line 7)) (1.9.0)\n",
      "Requirement already satisfied: cachetools<6,>=4.0 in /workspace/.pip-modules/lib/python3.12/site-packages (from streamlit==1.40.2->-r /workspace/cherry/requirements.txt (line 7)) (5.5.1)\n",
      "Requirement already satisfied: click<9,>=7.0 in /workspace/.pip-modules/lib/python3.12/site-packages (from streamlit==1.40.2->-r /workspace/cherry/requirements.txt (line 7)) (8.1.8)\n",
      "Requirement already satisfied: protobuf<6,>=3.20 in /workspace/.pip-modules/lib/python3.12/site-packages (from streamlit==1.40.2->-r /workspace/cherry/requirements.txt (line 7)) (4.25.6)\n",
      "Requirement already satisfied: pyarrow>=7.0 in /workspace/.pip-modules/lib/python3.12/site-packages (from streamlit==1.40.2->-r /workspace/cherry/requirements.txt (line 7)) (19.0.0)\n",
      "Requirement already satisfied: requests<3,>=2.27 in /home/gitpod/.pyenv/versions/3.12.2/lib/python3.12/site-packages (from streamlit==1.40.2->-r /workspace/cherry/requirements.txt (line 7)) (2.32.3)\n",
      "Requirement already satisfied: rich<14,>=10.14.0 in /home/gitpod/.pyenv/versions/3.12.2/lib/python3.12/site-packages (from streamlit==1.40.2->-r /workspace/cherry/requirements.txt (line 7)) (13.9.4)\n",
      "Requirement already satisfied: toml<2,>=0.10.1 in /workspace/.pip-modules/lib/python3.12/site-packages (from streamlit==1.40.2->-r /workspace/cherry/requirements.txt (line 7)) (0.10.2)\n",
      "Requirement already satisfied: typing-extensions<5,>=4.3.0 in /home/gitpod/.pyenv/versions/3.12.2/lib/python3.12/site-packages (from streamlit==1.40.2->-r /workspace/cherry/requirements.txt (line 7)) (4.12.2)\n",
      "Requirement already satisfied: watchdog<7,>=2.1.5 in /workspace/.pip-modules/lib/python3.12/site-packages (from streamlit==1.40.2->-r /workspace/cherry/requirements.txt (line 7)) (6.0.0)\n",
      "Requirement already satisfied: gitpython!=3.1.19,<4,>=3.0.7 in /workspace/.pip-modules/lib/python3.12/site-packages (from streamlit==1.40.2->-r /workspace/cherry/requirements.txt (line 7)) (3.1.44)\n",
      "Requirement already satisfied: pydeck<1,>=0.8.0b4 in /workspace/.pip-modules/lib/python3.12/site-packages (from streamlit==1.40.2->-r /workspace/cherry/requirements.txt (line 7)) (0.9.1)\n",
      "Requirement already satisfied: tornado<7,>=6.0.3 in /home/gitpod/.pyenv/versions/3.12.2/lib/python3.12/site-packages (from streamlit==1.40.2->-r /workspace/cherry/requirements.txt (line 7)) (6.4.2)\n",
      "Requirement already satisfied: scipy>=1.5.0 in /workspace/.pip-modules/lib/python3.12/site-packages (from scikit-learn==1.3.1->-r /workspace/cherry/requirements.txt (line 9)) (1.15.1)\n",
      "Requirement already satisfied: threadpoolctl>=2.0.0 in /workspace/.pip-modules/lib/python3.12/site-packages (from scikit-learn==1.3.1->-r /workspace/cherry/requirements.txt (line 9)) (3.5.0)\n",
      "Requirement already satisfied: absl-py>=1.0.0 in /workspace/.pip-modules/lib/python3.12/site-packages (from tensorflow-cpu==2.16.1->-r /workspace/cherry/requirements.txt (line 10)) (2.1.0)\n",
      "Requirement already satisfied: astunparse>=1.6.0 in /workspace/.pip-modules/lib/python3.12/site-packages (from tensorflow-cpu==2.16.1->-r /workspace/cherry/requirements.txt (line 10)) (1.6.3)\n",
      "Requirement already satisfied: flatbuffers>=23.5.26 in /workspace/.pip-modules/lib/python3.12/site-packages (from tensorflow-cpu==2.16.1->-r /workspace/cherry/requirements.txt (line 10)) (25.1.24)\n",
      "Requirement already satisfied: gast!=0.5.0,!=0.5.1,!=0.5.2,>=0.2.1 in /workspace/.pip-modules/lib/python3.12/site-packages (from tensorflow-cpu==2.16.1->-r /workspace/cherry/requirements.txt (line 10)) (0.6.0)\n",
      "Requirement already satisfied: google-pasta>=0.1.1 in /workspace/.pip-modules/lib/python3.12/site-packages (from tensorflow-cpu==2.16.1->-r /workspace/cherry/requirements.txt (line 10)) (0.2.0)\n",
      "Requirement already satisfied: h5py>=3.10.0 in /workspace/.pip-modules/lib/python3.12/site-packages (from tensorflow-cpu==2.16.1->-r /workspace/cherry/requirements.txt (line 10)) (3.12.1)\n",
      "Requirement already satisfied: libclang>=13.0.0 in /workspace/.pip-modules/lib/python3.12/site-packages (from tensorflow-cpu==2.16.1->-r /workspace/cherry/requirements.txt (line 10)) (18.1.1)\n",
      "Requirement already satisfied: ml-dtypes~=0.3.1 in /workspace/.pip-modules/lib/python3.12/site-packages (from tensorflow-cpu==2.16.1->-r /workspace/cherry/requirements.txt (line 10)) (0.3.2)\n",
      "Requirement already satisfied: opt-einsum>=2.3.2 in /workspace/.pip-modules/lib/python3.12/site-packages (from tensorflow-cpu==2.16.1->-r /workspace/cherry/requirements.txt (line 10)) (3.4.0)\n",
      "Requirement already satisfied: setuptools in /home/gitpod/.pyenv/versions/3.12.2/lib/python3.12/site-packages (from tensorflow-cpu==2.16.1->-r /workspace/cherry/requirements.txt (line 10)) (75.8.0)\n",
      "Requirement already satisfied: six>=1.12.0 in /home/gitpod/.pyenv/versions/3.12.2/lib/python3.12/site-packages (from tensorflow-cpu==2.16.1->-r /workspace/cherry/requirements.txt (line 10)) (1.17.0)\n",
      "Requirement already satisfied: termcolor>=1.1.0 in /workspace/.pip-modules/lib/python3.12/site-packages (from tensorflow-cpu==2.16.1->-r /workspace/cherry/requirements.txt (line 10)) (2.5.0)\n",
      "Requirement already satisfied: wrapt>=1.11.0 in /workspace/.pip-modules/lib/python3.12/site-packages (from tensorflow-cpu==2.16.1->-r /workspace/cherry/requirements.txt (line 10)) (1.17.2)\n",
      "Requirement already satisfied: grpcio<2.0,>=1.24.3 in /workspace/.pip-modules/lib/python3.12/site-packages (from tensorflow-cpu==2.16.1->-r /workspace/cherry/requirements.txt (line 10)) (1.70.0)\n",
      "Requirement already satisfied: tensorboard<2.17,>=2.16 in /workspace/.pip-modules/lib/python3.12/site-packages (from tensorflow-cpu==2.16.1->-r /workspace/cherry/requirements.txt (line 10)) (2.16.2)\n",
      "Requirement already satisfied: namex in /workspace/.pip-modules/lib/python3.12/site-packages (from keras>=3.0.0->-r /workspace/cherry/requirements.txt (line 11)) (0.0.8)\n",
      "Requirement already satisfied: optree in /workspace/.pip-modules/lib/python3.12/site-packages (from keras>=3.0.0->-r /workspace/cherry/requirements.txt (line 11)) (0.14.0)\n",
      "Requirement already satisfied: jinja2 in /home/gitpod/.pyenv/versions/3.12.2/lib/python3.12/site-packages (from altair<6,>=4.0->streamlit==1.40.2->-r /workspace/cherry/requirements.txt (line 7)) (3.1.5)\n",
      "Requirement already satisfied: jsonschema>=3.0 in /home/gitpod/.pyenv/versions/3.12.2/lib/python3.12/site-packages (from altair<6,>=4.0->streamlit==1.40.2->-r /workspace/cherry/requirements.txt (line 7)) (4.23.0)\n",
      "Requirement already satisfied: narwhals>=1.14.2 in /workspace/.pip-modules/lib/python3.12/site-packages (from altair<6,>=4.0->streamlit==1.40.2->-r /workspace/cherry/requirements.txt (line 7)) (1.23.0)\n",
      "Requirement already satisfied: wheel<1.0,>=0.23.0 in /home/gitpod/.pyenv/versions/3.12.2/lib/python3.12/site-packages (from astunparse>=1.6.0->tensorflow-cpu==2.16.1->-r /workspace/cherry/requirements.txt (line 10)) (0.45.1)\n",
      "Requirement already satisfied: gitdb<5,>=4.0.1 in /workspace/.pip-modules/lib/python3.12/site-packages (from gitpython!=3.1.19,<4,>=3.0.7->streamlit==1.40.2->-r /workspace/cherry/requirements.txt (line 7)) (4.0.12)\n",
      "Requirement already satisfied: charset-normalizer<4,>=2 in /home/gitpod/.pyenv/versions/3.12.2/lib/python3.12/site-packages (from requests<3,>=2.27->streamlit==1.40.2->-r /workspace/cherry/requirements.txt (line 7)) (3.4.1)\n",
      "Requirement already satisfied: idna<4,>=2.5 in /home/gitpod/.pyenv/versions/3.12.2/lib/python3.12/site-packages (from requests<3,>=2.27->streamlit==1.40.2->-r /workspace/cherry/requirements.txt (line 7)) (3.10)\n",
      "Requirement already satisfied: urllib3<3,>=1.21.1 in /home/gitpod/.pyenv/versions/3.12.2/lib/python3.12/site-packages (from requests<3,>=2.27->streamlit==1.40.2->-r /workspace/cherry/requirements.txt (line 7)) (2.3.0)\n",
      "Requirement already satisfied: certifi>=2017.4.17 in /home/gitpod/.pyenv/versions/3.12.2/lib/python3.12/site-packages (from requests<3,>=2.27->streamlit==1.40.2->-r /workspace/cherry/requirements.txt (line 7)) (2024.12.14)\n",
      "Requirement already satisfied: markdown-it-py>=2.2.0 in /home/gitpod/.pyenv/versions/3.12.2/lib/python3.12/site-packages (from rich<14,>=10.14.0->streamlit==1.40.2->-r /workspace/cherry/requirements.txt (line 7)) (3.0.0)\n",
      "Requirement already satisfied: pygments<3.0.0,>=2.13.0 in /home/gitpod/.pyenv/versions/3.12.2/lib/python3.12/site-packages (from rich<14,>=10.14.0->streamlit==1.40.2->-r /workspace/cherry/requirements.txt (line 7)) (2.19.1)\n",
      "Requirement already satisfied: markdown>=2.6.8 in /workspace/.pip-modules/lib/python3.12/site-packages (from tensorboard<2.17,>=2.16->tensorflow-cpu==2.16.1->-r /workspace/cherry/requirements.txt (line 10)) (3.7)\n",
      "Requirement already satisfied: tensorboard-data-server<0.8.0,>=0.7.0 in /workspace/.pip-modules/lib/python3.12/site-packages (from tensorboard<2.17,>=2.16->tensorflow-cpu==2.16.1->-r /workspace/cherry/requirements.txt (line 10)) (0.7.2)\n",
      "Requirement already satisfied: werkzeug>=1.0.1 in /workspace/.pip-modules/lib/python3.12/site-packages (from tensorboard<2.17,>=2.16->tensorflow-cpu==2.16.1->-r /workspace/cherry/requirements.txt (line 10)) (3.1.3)\n",
      "Requirement already satisfied: smmap<6,>=3.0.1 in /workspace/.pip-modules/lib/python3.12/site-packages (from gitdb<5,>=4.0.1->gitpython!=3.1.19,<4,>=3.0.7->streamlit==1.40.2->-r /workspace/cherry/requirements.txt (line 7)) (5.0.2)\n",
      "Requirement already satisfied: MarkupSafe>=2.0 in /home/gitpod/.pyenv/versions/3.12.2/lib/python3.12/site-packages (from jinja2->altair<6,>=4.0->streamlit==1.40.2->-r /workspace/cherry/requirements.txt (line 7)) (3.0.2)\n",
      "Requirement already satisfied: attrs>=22.2.0 in /home/gitpod/.pyenv/versions/3.12.2/lib/python3.12/site-packages (from jsonschema>=3.0->altair<6,>=4.0->streamlit==1.40.2->-r /workspace/cherry/requirements.txt (line 7)) (25.1.0)\n",
      "Requirement already satisfied: jsonschema-specifications>=2023.03.6 in /home/gitpod/.pyenv/versions/3.12.2/lib/python3.12/site-packages (from jsonschema>=3.0->altair<6,>=4.0->streamlit==1.40.2->-r /workspace/cherry/requirements.txt (line 7)) (2024.10.1)\n",
      "Requirement already satisfied: referencing>=0.28.4 in /home/gitpod/.pyenv/versions/3.12.2/lib/python3.12/site-packages (from jsonschema>=3.0->altair<6,>=4.0->streamlit==1.40.2->-r /workspace/cherry/requirements.txt (line 7)) (0.36.2)\n",
      "Requirement already satisfied: rpds-py>=0.7.1 in /home/gitpod/.pyenv/versions/3.12.2/lib/python3.12/site-packages (from jsonschema>=3.0->altair<6,>=4.0->streamlit==1.40.2->-r /workspace/cherry/requirements.txt (line 7)) (0.22.3)\n",
      "Requirement already satisfied: mdurl~=0.1 in /home/gitpod/.pyenv/versions/3.12.2/lib/python3.12/site-packages (from markdown-it-py>=2.2.0->rich<14,>=10.14.0->streamlit==1.40.2->-r /workspace/cherry/requirements.txt (line 7)) (0.1.2)\n",
      "Note: you may need to restart the kernel to use updated packages.\n"
     ]
    }
   ],
   "source": [
    "%pip install -r /workspace/cherry/requirements.txt"
   ]
  },
  {
   "cell_type": "code",
   "execution_count": 20,
   "metadata": {},
   "outputs": [],
   "source": [
    "import numpy\n",
    "import os"
   ]
  },
  {
   "cell_type": "markdown",
   "metadata": {},
   "source": [
    "## Change working directory"
   ]
  },
  {
   "cell_type": "code",
   "execution_count": 21,
   "metadata": {},
   "outputs": [
    {
     "data": {
      "text/plain": [
       "'/workspace/cherry'"
      ]
     },
     "execution_count": 21,
     "metadata": {},
     "output_type": "execute_result"
    }
   ],
   "source": [
    "current_dir = os.getcwd()\n",
    "current_dir"
   ]
  },
  {
   "cell_type": "code",
   "execution_count": 22,
   "metadata": {},
   "outputs": [],
   "source": [
    "os.chdir('/workspace/cherry')"
   ]
  },
  {
   "cell_type": "code",
   "execution_count": 23,
   "metadata": {},
   "outputs": [
    {
     "data": {
      "text/plain": [
       "'/workspace/cherry'"
      ]
     },
     "execution_count": 23,
     "metadata": {},
     "output_type": "execute_result"
    }
   ],
   "source": [
    "current_dir = os.getcwd()\n",
    "current_dir"
   ]
  },
  {
   "cell_type": "markdown",
   "metadata": {},
   "source": [
    "install Kaggle"
   ]
  },
  {
   "cell_type": "code",
   "execution_count": 24,
   "metadata": {},
   "outputs": [
    {
     "name": "stdout",
     "output_type": "stream",
     "text": [
      "Requirement already satisfied: kaggle==1.5.12 in /workspace/.pip-modules/lib/python3.12/site-packages (1.5.12)\n",
      "Requirement already satisfied: six>=1.10 in /home/gitpod/.pyenv/versions/3.12.2/lib/python3.12/site-packages (from kaggle==1.5.12) (1.17.0)\n",
      "Requirement already satisfied: certifi in /home/gitpod/.pyenv/versions/3.12.2/lib/python3.12/site-packages (from kaggle==1.5.12) (2024.12.14)\n",
      "Requirement already satisfied: python-dateutil in /home/gitpod/.pyenv/versions/3.12.2/lib/python3.12/site-packages (from kaggle==1.5.12) (2.9.0.post0)\n",
      "Requirement already satisfied: requests in /home/gitpod/.pyenv/versions/3.12.2/lib/python3.12/site-packages (from kaggle==1.5.12) (2.32.3)\n",
      "Requirement already satisfied: tqdm in /workspace/.pip-modules/lib/python3.12/site-packages (from kaggle==1.5.12) (4.67.1)\n",
      "Requirement already satisfied: python-slugify in /workspace/.pip-modules/lib/python3.12/site-packages (from kaggle==1.5.12) (8.0.4)\n",
      "Requirement already satisfied: urllib3 in /home/gitpod/.pyenv/versions/3.12.2/lib/python3.12/site-packages (from kaggle==1.5.12) (2.3.0)\n",
      "Requirement already satisfied: text-unidecode>=1.3 in /workspace/.pip-modules/lib/python3.12/site-packages (from python-slugify->kaggle==1.5.12) (1.3)\n",
      "Requirement already satisfied: charset-normalizer<4,>=2 in /home/gitpod/.pyenv/versions/3.12.2/lib/python3.12/site-packages (from requests->kaggle==1.5.12) (3.4.1)\n",
      "Requirement already satisfied: idna<4,>=2.5 in /home/gitpod/.pyenv/versions/3.12.2/lib/python3.12/site-packages (from requests->kaggle==1.5.12) (3.10)\n",
      "Note: you may need to restart the kernel to use updated packages.\n"
     ]
    }
   ],
   "source": [
    "#install kaggle\n",
    "%pip install kaggle==1.5.12"
   ]
  },
  {
   "cell_type": "markdown",
   "metadata": {},
   "source": [
    "*Run cell ** To change directory and set permissions for the Kaggle authentication key **"
   ]
  },
  {
   "cell_type": "code",
   "execution_count": 26,
   "metadata": {},
   "outputs": [],
   "source": [
    "os.environ['KAGGLE_CONFIG_DIR'] = os.getcwd()\n",
    "! chmod 600 kaggle.json"
   ]
  },
  {
   "cell_type": "code",
   "execution_count": 28,
   "metadata": {},
   "outputs": [
    {
     "name": "stdout",
     "output_type": "stream",
     "text": [
      "Downloading cherry-leaves.zip to inputs/cherry_dataset\n",
      " 96%|████████████████████████████████████▌ | 53.0M/55.0M [00:01<00:00, 42.9MB/s]\n",
      "100%|██████████████████████████████████████| 55.0M/55.0M [00:01<00:00, 30.6MB/s]\n"
     ]
    }
   ],
   "source": [
    "KaggleDatasetPath = \"codeinstitute/cherry-leaves\"\n",
    "DestinationFolder = \"inputs/cherry_dataset\"   \n",
    "! kaggle datasets download -d {KaggleDatasetPath} -p {DestinationFolder}"
   ]
  },
  {
   "cell_type": "code",
   "execution_count": 29,
   "metadata": {},
   "outputs": [],
   "source": [
    "import zipfile\n",
    "with zipfile.ZipFile(DestinationFolder + '/cherry-leaves.zip', 'r') as zip_ref:\n",
    "    zip_ref.extractall(DestinationFolder)\n",
    "\n",
    "os.remove(DestinationFolder + '/cherry-leaves.zip')"
   ]
  },
  {
   "cell_type": "markdown",
   "metadata": {},
   "source": [
    "# Data preperation"
   ]
  },
  {
   "cell_type": "markdown",
   "metadata": {},
   "source": [
    "## Data cleaning"
   ]
  },
  {
   "cell_type": "markdown",
   "metadata": {},
   "source": [
    "** remove non image files"
   ]
  },
  {
   "cell_type": "code",
   "execution_count": 30,
   "metadata": {},
   "outputs": [],
   "source": [
    "def remove_non_image_file(my_data_dir):\n",
    "    image_extension = ('.png', '.jpg', '.jpeg')\n",
    "    folders = os.listdir(my_data_dir) \n",
    "    for folder in folders:\n",
    "        files = os.listdir(my_data_dir + '/' + folder)\n",
    "        \n",
    "            #print(files)\n",
    "        i = []\n",
    "        j = []\n",
    "        for given_file in files:\n",
    "            if not given_file.lower().endswith(image_extension):\n",
    "                file_location = my_data_dir + '/' + folder + '/' + given_file\n",
    "                os.remove(file_location) # remove non image file\n",
    "                i.append(1)\n",
    "            else:\n",
    "                j.append(1)\n",
    "                pass\n",
    "        print(f\"Folder: {folder} - has image file\",len(j))\n",
    "        print(f\"Folder: {folder} - has non-image file\",len(i))"
   ]
  },
  {
   "cell_type": "code",
   "execution_count": 32,
   "metadata": {},
   "outputs": [
    {
     "ename": "IsADirectoryError",
     "evalue": "[Errno 21] Is a directory: 'inputs/cherry_dataset/cherry-leaves/train/healthy'",
     "output_type": "error",
     "traceback": [
      "\u001b[0;31m---------------------------------------------------------------------------\u001b[0m",
      "\u001b[0;31mIsADirectoryError\u001b[0m                         Traceback (most recent call last)",
      "Cell \u001b[0;32mIn[32], line 1\u001b[0m\n\u001b[0;32m----> 1\u001b[0m \u001b[43mremove_non_image_file\u001b[49m\u001b[43m(\u001b[49m\u001b[43mmy_data_dir\u001b[49m\u001b[38;5;241;43m=\u001b[39;49m\u001b[38;5;124;43m'\u001b[39;49m\u001b[38;5;124;43minputs/cherry_dataset/cherry-leaves\u001b[39;49m\u001b[38;5;124;43m'\u001b[39;49m\u001b[43m)\u001b[49m\n",
      "Cell \u001b[0;32mIn[30], line 13\u001b[0m, in \u001b[0;36mremove_non_image_file\u001b[0;34m(my_data_dir)\u001b[0m\n\u001b[1;32m     11\u001b[0m \u001b[38;5;28;01mif\u001b[39;00m \u001b[38;5;129;01mnot\u001b[39;00m given_file\u001b[38;5;241m.\u001b[39mlower()\u001b[38;5;241m.\u001b[39mendswith(image_extension):\n\u001b[1;32m     12\u001b[0m     file_location \u001b[38;5;241m=\u001b[39m my_data_dir \u001b[38;5;241m+\u001b[39m \u001b[38;5;124m'\u001b[39m\u001b[38;5;124m/\u001b[39m\u001b[38;5;124m'\u001b[39m \u001b[38;5;241m+\u001b[39m folder \u001b[38;5;241m+\u001b[39m \u001b[38;5;124m'\u001b[39m\u001b[38;5;124m/\u001b[39m\u001b[38;5;124m'\u001b[39m \u001b[38;5;241m+\u001b[39m given_file\n\u001b[0;32m---> 13\u001b[0m     \u001b[43mos\u001b[49m\u001b[38;5;241;43m.\u001b[39;49m\u001b[43mremove\u001b[49m\u001b[43m(\u001b[49m\u001b[43mfile_location\u001b[49m\u001b[43m)\u001b[49m \u001b[38;5;66;03m# remove non image file\u001b[39;00m\n\u001b[1;32m     14\u001b[0m     i\u001b[38;5;241m.\u001b[39mappend(\u001b[38;5;241m1\u001b[39m)\n\u001b[1;32m     15\u001b[0m \u001b[38;5;28;01melse\u001b[39;00m:\n",
      "\u001b[0;31mIsADirectoryError\u001b[0m: [Errno 21] Is a directory: 'inputs/cherry_dataset/cherry-leaves/train/healthy'"
     ]
    }
   ],
   "source": [
    "remove_non_image_file(my_data_dir='inputs/cherry_dataset/cherry-leaves')"
   ]
  },
  {
   "cell_type": "markdown",
   "metadata": {},
   "source": [
    "## Split train validation test set"
   ]
  },
  {
   "cell_type": "code",
   "execution_count": 33,
   "metadata": {},
   "outputs": [],
   "source": [
    "import os\n",
    "import random\n",
    "import shutil\n",
    "import joblib\n",
    "\n",
    "def split_train_validation_test_images(my_data_dir, train_set_ratio, validation_set_ratio, test_set_ratio):\n",
    "  \n",
    "  if train_set_ratio + validation_set_ratio + test_set_ratio != 1.0:\n",
    "    print(\"train_set_ratio + validation_set_ratio + test_set_ratio should sum 1.0\")\n",
    "    return\n",
    "\n",
    "  # gets classes labels\n",
    "  labels = os.listdir(my_data_dir) # it should get only the folder name\n",
    "  if 'test' in labels:\n",
    "    pass\n",
    "  else: \n",
    "    # create train, test folders with classess labels sub-folder\n",
    "    for folder in ['train','validation','test']:\n",
    "      for label in labels:\n",
    "        os.makedirs(name=my_data_dir+ '/' + folder + '/' + label)\n",
    "\n",
    "    for label in labels:\n",
    "\n",
    "      files = os.listdir(my_data_dir + '/' + label)\n",
    "      random.shuffle(files)\n",
    "\n",
    "      train_set_files_qty = int(len(files) * train_set_ratio)\n",
    "      validation_set_files_qty = int(len(files) * validation_set_ratio)\n",
    "\n",
    "      count = 1\n",
    "      for file_name in files:\n",
    "        if count <= train_set_files_qty:\n",
    "          # move given file to train set\n",
    "          shutil.move(my_data_dir + '/' + label + '/' + file_name,\n",
    "                      my_data_dir + '/train/' + label + '/' + file_name)\n",
    "          \n",
    "\n",
    "        elif count <= (train_set_files_qty + validation_set_files_qty ):\n",
    "          # move given file to validation set\n",
    "          shutil.move(my_data_dir + '/' + label + '/' + file_name,\n",
    "                      my_data_dir + '/validation/' + label + '/' + file_name)\n",
    "\n",
    "        else:\n",
    "          # move given file to test set\n",
    "          shutil.move(my_data_dir + '/' + label + '/' + file_name,\n",
    "                  my_data_dir + '/test/' +label + '/'+ file_name)\n",
    "          \n",
    "        count += 1\n",
    "\n",
    "      os.rmdir(my_data_dir + '/' + label)"
   ]
  },
  {
   "cell_type": "markdown",
   "metadata": {},
   "source": [
    "\"* The training set is divided into 0.70 ratio of data.\\n\",\n",
    "        \"* The validation set is divided into 0.10 ratio of data.\\n\",\n",
    "        \"* The test set is divided into 0.20 ratio of data.\""
   ]
  },
  {
   "cell_type": "code",
   "execution_count": 34,
   "metadata": {},
   "outputs": [],
   "source": [
    "split_train_validation_test_images(my_data_dir = f\"inputs/cherry_dataset/cherry-leaves\",\n",
    "                        train_set_ratio = 0.7,\n",
    "                        validation_set_ratio=0.1,\n",
    "                        test_set_ratio=0.2\n",
    "                        )"
   ]
  }
 ],
 "metadata": {
  "kernelspec": {
   "display_name": "Python 3",
   "language": "python",
   "name": "python3"
  },
  "language_info": {
   "codemirror_mode": {
    "name": "ipython",
    "version": 3
   },
   "file_extension": ".py",
   "mimetype": "text/x-python",
   "name": "python",
   "nbconvert_exporter": "python",
   "pygments_lexer": "ipython3",
   "version": "3.12.2"
  }
 },
 "nbformat": 4,
 "nbformat_minor": 2
}
