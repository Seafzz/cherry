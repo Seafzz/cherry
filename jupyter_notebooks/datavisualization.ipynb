{
 "cells": [
  {
   "cell_type": "markdown",
   "metadata": {},
   "source": [
    "# Data visualtisation Notebook"
   ]
  },
  {
   "cell_type": "markdown",
   "metadata": {},
   "source": [
    "## Objectives"
   ]
  },
  {
   "cell_type": "markdown",
   "metadata": {},
   "source": [
    "*   Answer business requirement 1: \\n\",\n",
    "         * The client is interested to have a more efficient way to visually differentiate a healthy and powdery mildew infected leaves."
   ]
  },
  {
   "cell_type": "markdown",
   "metadata": {},
   "source": [
    "## Inputs"
   ]
  },
  {
   "cell_type": "markdown",
   "metadata": {},
   "source": [
    "*   inputs/cherry_dataset/cherry-leaves/train\n",
    "*   inputs/cherry_dataset/cherry-leaves/validation\n",
    "*   inputs/cherry_dataset/cherry-leaves/test"
   ]
  }
 ],
 "metadata": {
  "language_info": {
   "name": "python"
  }
 },
 "nbformat": 4,
 "nbformat_minor": 2
}
